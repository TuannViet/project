{
 "cells": [
  {
   "cell_type": "code",
   "execution_count": 2,
   "id": "93830f83-5c9f-4674-9b56-d996ab85ba10",
   "metadata": {},
   "outputs": [],
   "source": [
    "#1\n",
    "def tong_tu_1_den_n(n):\n",
    "    if n <= 0:\n",
    "        return 0\n",
    "    return n * (n + 1) // 2\n"
   ]
  },
  {
   "cell_type": "code",
   "execution_count": null,
   "id": "a2e7027a-ea19-4dd8-9377-a8ab85e1f431",
   "metadata": {},
   "outputs": [],
   "source": [
    "#2"
   ]
  },
  {
   "cell_type": "code",
   "execution_count": 3,
   "id": "e74ee1b3-e490-40bb-bb70-2221f51a1abf",
   "metadata": {},
   "outputs": [],
   "source": [
    "def la_so_nguyen_to(so):\n",
    "    if so <= 1:\n",
    "        return False\n",
    "    if so == 2:\n",
    "        return True\n",
    "    if so % 2 == 0:\n",
    "        return False\n",
    "    can = int(so ** 0.5)\n",
    "    for uoc in range(3, can + 1, 2):\n",
    "        if so % uoc == 0:\n",
    "            return False\n",
    "    return True\n"
   ]
  },
  {
   "cell_type": "code",
   "execution_count": null,
   "id": "752c2f37-c4f1-40d8-aced-de4473a097ee",
   "metadata": {},
   "outputs": [],
   "source": [
    "#3"
   ]
  },
  {
   "cell_type": "code",
   "execution_count": null,
   "id": "25e33df8-7375-4d90-8da8-e6394b50d3db",
   "metadata": {},
   "outputs": [],
   "source": [
    "def giai_thua(n):\n",
    "    if n < 0:\n",
    "        return None\n",
    "    ket_qua = 1\n",
    "    for i in range(1, n + 1):\n",
    "        ket_qua *= i\n",
    "    return ket_qua\n"
   ]
  },
  {
   "cell_type": "code",
   "execution_count": null,
   "id": "a1040d35-a8c1-4f91-97f5-c77cab960c5e",
   "metadata": {},
   "outputs": [],
   "source": [
    "#4"
   ]
  },
  {
   "cell_type": "code",
   "execution_count": null,
   "id": "b7777a83-60d1-45e9-a622-cac6c8a3f45c",
   "metadata": {},
   "outputs": [],
   "source": [
    "def dem_chu_so(so):\n",
    "    so = abs(so)\n",
    "    if so == 0:\n",
    "        return 1\n",
    "    dem = 0\n",
    "    while so > 0:\n",
    "        dem += 1\n",
    "        so //= 10\n",
    "    return dem\n"
   ]
  },
  {
   "cell_type": "code",
   "execution_count": null,
   "id": "9673c1e3-069e-455e-af76-43e926545de5",
   "metadata": {},
   "outputs": [],
   "source": [
    "#5"
   ]
  },
  {
   "cell_type": "code",
   "execution_count": null,
   "id": "7db2d288-bcd2-49b7-b386-e797c6160ee3",
   "metadata": {},
   "outputs": [],
   "source": [
    "def y_nghia_cuoc_song(danh_sach):\n",
    "    if 42 in danh_sach:\n",
    "        return \"I've found the meaning of life!!\"\n",
    "    else:\n",
    "        return \"It's just a joke!\"\n"
   ]
  },
  {
   "cell_type": "code",
   "execution_count": null,
   "id": "c6e2cb35-49b2-468c-a761-faf05f145817",
   "metadata": {},
   "outputs": [],
   "source": [
    "#6"
   ]
  },
  {
   "cell_type": "code",
   "execution_count": null,
   "id": "60e8342a-b5e4-44c6-98d4-00fd4408de46",
   "metadata": {},
   "outputs": [],
   "source": [
    "def tong_so_nguyen_to_trong_khoang(a, b):\n",
    "    tong = 0\n",
    "    for i in range(a, b + 1):\n",
    "        if la_so_nguyen_to(i):\n",
    "            tong += i\n",
    "    return tong\n"
   ]
  },
  {
   "cell_type": "code",
   "execution_count": null,
   "id": "564e5547-781f-49b0-b9dc-cdf2c27f7a05",
   "metadata": {},
   "outputs": [],
   "source": [
    "#7"
   ]
  },
  {
   "cell_type": "code",
   "execution_count": null,
   "id": "e4dcdc29-8aff-4b7a-b1d7-4e9223da0b51",
   "metadata": {},
   "outputs": [],
   "source": [
    "def uoc_nguyen_to_lon_nhat(n):\n",
    "    n = int(n)\n",
    "    lon_nhat = -1\n",
    "    while n % 2 == 0:\n",
    "        lon_nhat = 2\n",
    "        n //= 2\n",
    "    uoc = 3\n",
    "    while uoc * uoc <= n:\n",
    "        while n % uoc == 0:\n",
    "            lon_nhat = uoc\n",
    "            n //= uoc\n",
    "        uoc += 2\n",
    "    if n > 1:\n",
    "        lon_nhat = max(lon_nhat, n)\n",
    "    return lon_nhat\n"
   ]
  },
  {
   "cell_type": "code",
   "execution_count": null,
   "id": "a5c46cf8-b803-41ee-b201-fc11ed67230e",
   "metadata": {},
   "outputs": [],
   "source": [
    "#8"
   ]
  },
  {
   "cell_type": "code",
   "execution_count": null,
   "id": "a6cbab8d-0711-4d72-9776-ac6eb60bce69",
   "metadata": {},
   "outputs": [],
   "source": [
    "def la_palindrome(so):\n",
    "    chuoi = str(so)\n",
    "    return chuoi == chuoi[::-1]\n",
    "\n",
    "def dao_nguoc(so):\n",
    "    chuoi = str(so)\n",
    "    return int(chuoi[::-1])\n",
    "\n",
    "def dao_cong_den_palindrome(so):\n",
    "    buoc = 0\n",
    "    while not la_palindrome(so) and buoc < 1000:\n",
    "        so = so + dao_nguoc(so)\n",
    "        buoc += 1\n",
    "    return buoc, so\n"
   ]
  },
  {
   "cell_type": "code",
   "execution_count": null,
   "id": "37a8577e-5509-4b96-a9f6-3c19f932917e",
   "metadata": {},
   "outputs": [],
   "source": []
  },
  {
   "cell_type": "code",
   "execution_count": null,
   "id": "45e54ae3-80d0-4a43-9df4-e2a69ee11e50",
   "metadata": {},
   "outputs": [],
   "source": [
    "#9"
   ]
  },
  {
   "cell_type": "code",
   "execution_count": null,
   "id": "e27166bc-a3e2-4ccb-a8f1-8905c486d288",
   "metadata": {},
   "outputs": [],
   "source": [
    "import math\n",
    "\n",
    "def chu_so_khac_nhau(so):\n",
    "    chuoi = str(so)\n",
    "    return len(set(chuoi)) == len(chuoi)\n",
    "\n",
    "def so_chinh_phuong_chu_so_khac_nhau(n):\n",
    "    ket_qua = []\n",
    "    for i in range(1, int(math.isqrt(n)) + 1):\n",
    "        cp = i * i\n",
    "        if chu_so_khac_nhau(cp):\n",
    "            ket_qua.append(cp)\n",
    "    return ket_qua\n"
   ]
  },
  {
   "cell_type": "code",
   "execution_count": null,
   "id": "749f0683-a911-4cfe-9cbd-5bf07038c33a",
   "metadata": {},
   "outputs": [],
   "source": [
    "#10"
   ]
  },
  {
   "cell_type": "code",
   "execution_count": null,
   "id": "2c777db6-4306-455b-9d8f-f277ca5180af",
   "metadata": {},
   "outputs": [],
   "source": [
    "bo_nho = {1: 1}\n",
    "\n",
    "def do_dai_collatz(so):\n",
    "    day = []\n",
    "    hien_tai = so\n",
    "    while hien_tai not in bo_nho:\n",
    "        day.append(hien_tai)\n",
    "        if hien_tai % 2 == 0:\n",
    "            hien_tai //= 2\n",
    "        else:\n",
    "            hien_tai = 3 * hien_tai + 1\n",
    "    do_dai = bo_nho[hien_tai]\n",
    "    for x in reversed(day):\n",
    "        do_dai += 1\n",
    "        bo_nho[x] = do_dai\n",
    "    return bo_nho[so]\n",
    "\n",
    "def collatz_dai_nhat_den_n(n):\n",
    "    dai_nhat = 0\n",
    "    so_tot_nhat = 1\n",
    "    for i in range(1, n + 1):\n",
    "        d = do_dai_collatz(i)\n",
    "        if d > dai_nhat or (d == dai_nhat and i < so_tot_nhat):\n",
    "            dai_nhat = d\n",
    "            so_tot_nhat = i\n",
    "    return so_tot_nhat, dai_nhat\n"
   ]
  },
  {
   "cell_type": "code",
   "execution_count": null,
   "id": "498d7d1c-2916-4509-9559-38e029320f9b",
   "metadata": {},
   "outputs": [],
   "source": [
    "#11"
   ]
  },
  {
   "cell_type": "code",
   "execution_count": null,
   "id": "affb4bbc-b243-4f44-aa00-e3c3192a5cc3",
   "metadata": {},
   "outputs": [],
   "source": [
    "def dem_uoc_chan(n):\n",
    "    if n % 2 != 0:\n",
    "        return 0\n",
    "    dem = 0\n",
    "    for i in range(2, n + 1, 2):\n",
    "        if n % i == 0:\n",
    "            dem += 1\n",
    "    return dem\n"
   ]
  },
  {
   "cell_type": "code",
   "execution_count": null,
   "id": "853fe8e3-8e38-4fa7-8c19-1db435e6af10",
   "metadata": {},
   "outputs": [],
   "source": [
    "#12"
   ]
  },
  {
   "cell_type": "code",
   "execution_count": null,
   "id": "1045a6d3-3450-4ba5-968c-5ef4a28e7d93",
   "metadata": {},
   "outputs": [],
   "source": [
    "def tien_lai_ngan_hang(tien_goc, so_thang):\n",
    "    tong = tien_goc * ((1 + 0.007) ** so_thang)\n",
    "    return int(tong)\n"
   ]
  },
  {
   "cell_type": "code",
   "execution_count": null,
   "id": "a10ed650-3d86-4221-9a92-1a784b5f340c",
   "metadata": {},
   "outputs": [],
   "source": [
    "#13"
   ]
  },
  {
   "cell_type": "code",
   "execution_count": null,
   "id": "9037b2e6-f5c3-4acb-9635-a47eb8431e65",
   "metadata": {},
   "outputs": [],
   "source": [
    "def tong_uoc_khong_ke_no(n):\n",
    "    tong = 1\n",
    "    for i in range(2, int(math.isqrt(n)) + 1):\n",
    "        if n % i == 0:\n",
    "            tong += i\n",
    "            if i != n // i:\n",
    "                tong += n // i\n",
    "    return tong\n",
    "\n",
    "def la_cap_than_thiet(a, b):\n",
    "    return tong_uoc_khong_ke_no(a) == b and tong_uoc_khong_ke_no(b) == a\n"
   ]
  },
  {
   "cell_type": "code",
   "execution_count": null,
   "id": "a9148a54-0882-4b20-a10e-103176f561b4",
   "metadata": {},
   "outputs": [],
   "source": []
  },
  {
   "cell_type": "code",
   "execution_count": null,
   "id": "c94f3933-4a07-4152-996d-5e5aff037188",
   "metadata": {},
   "outputs": [],
   "source": [
    "#14"
   ]
  },
  {
   "cell_type": "code",
   "execution_count": 6,
   "id": "a2b77602-6da2-4369-8e5d-9323a20675e7",
   "metadata": {},
   "outputs": [],
   "source": [
    "def ucln(a, b):\n",
    "    while b != 0:\n",
    "        a, b = b, a % b\n",
    "    return abs(a)\n"
   ]
  },
  {
   "cell_type": "code",
   "execution_count": null,
   "id": "c9b13f72-d455-4aec-9f1f-3470896c2d45",
   "metadata": {},
   "outputs": [],
   "source": [
    "#15"
   ]
  },
  {
   "cell_type": "code",
   "execution_count": 5,
   "id": "ee850350-0ae0-4af5-9204-6e11733128b6",
   "metadata": {},
   "outputs": [],
   "source": [
    "def ga_cho(tong_con, tong_chan):\n",
    "    if tong_chan % 2 != 0:\n",
    "        return \"vô lý\"\n",
    "    cho = tong_chan // 2 - tong_con\n",
    "    ga = tong_con - cho\n",
    "    if cho < 0 or ga < 0:\n",
    "        return \"vô lý\"\n",
    "    return ga, cho\n"
   ]
  },
  {
   "cell_type": "code",
   "execution_count": null,
   "id": "09cce438-302f-4b9f-a27a-6955dc60e5fc",
   "metadata": {},
   "outputs": [],
   "source": []
  },
  {
   "cell_type": "code",
   "execution_count": null,
   "id": "285c7174-03a3-43db-bc8a-6e6132897945",
   "metadata": {},
   "outputs": [],
   "source": []
  },
  {
   "cell_type": "code",
   "execution_count": null,
   "id": "4e8ac900-1093-4f98-a619-069247e02202",
   "metadata": {},
   "outputs": [],
   "source": []
  },
  {
   "cell_type": "code",
   "execution_count": null,
   "id": "5c8a7214-0699-4443-9dac-40a84a310166",
   "metadata": {},
   "outputs": [],
   "source": []
  }
 ],
 "metadata": {
  "kernelspec": {
   "display_name": "anaconda-ai-2024.04-py310",
   "language": "python",
   "name": "conda-env-anaconda-ai-2024.04-py310-py"
  },
  "language_info": {
   "codemirror_mode": {
    "name": "ipython",
    "version": 3
   },
   "file_extension": ".py",
   "mimetype": "text/x-python",
   "name": "python",
   "nbconvert_exporter": "python",
   "pygments_lexer": "ipython3",
   "version": "3.10.13"
  }
 },
 "nbformat": 4,
 "nbformat_minor": 5
}
