{
 "cells": [
  {
   "cell_type": "code",
   "execution_count": 3,
   "id": "52de5ce9-4a99-46d4-bc53-c44bf867d153",
   "metadata": {},
   "outputs": [
    {
     "name": "stdin",
     "output_type": "stream",
     "text": [
      "Nhập số nguyên n:  6\n"
     ]
    },
    {
     "name": "stdout",
     "output_type": "stream",
     "text": [
      "Kết quả: 12\n"
     ]
    }
   ],
   "source": [
    "n = int(input(\"Nhập số nguyên n: \"))\n",
    "print(\"Kết quả:\", 2 * n)"
   ]
  },
  {
   "cell_type": "code",
   "execution_count": 10,
   "id": "f58c5e1f-8047-4e7e-87e2-4f8e98dcd4a1",
   "metadata": {},
   "outputs": [
    {
     "name": "stdin",
     "output_type": "stream",
     "text": [
      "Nhập chiều rộng a và chiều dài b:  1 2\n"
     ]
    },
    {
     "name": "stdout",
     "output_type": "stream",
     "text": [
      "Diện tích trồng cây còn lại = 1.21\n"
     ]
    }
   ],
   "source": [
    "a, b = map(float, input(\"Nhập chiều rộng a và chiều dài b: \").split())\n",
    "S_hinh_chu_nhat = a * b\n",
    "S_hinh_tron = 3.14 * (a/2)**2 \n",
    "S_cay = S_hinh_chu_nhat - S_hinh_tron\n",
    "print(\"Diện tích trồng cây còn lại = {:.2f}\".format(S_cay))"
   ]
  },
  {
   "cell_type": "code",
   "execution_count": null,
   "id": "a503ff84-5e24-4c28-ab28-832e61691b77",
   "metadata": {},
   "outputs": [],
   "source": []
  },
  {
   "cell_type": "code",
   "execution_count": 11,
   "id": "d487b64b-7d62-4edd-a744-8ba031adf1cf",
   "metadata": {},
   "outputs": [
    {
     "name": "stdin",
     "output_type": "stream",
     "text": [
      "Nhập kí tự:  w\n"
     ]
    },
    {
     "name": "stdout",
     "output_type": "stream",
     "text": [
      "Kí tự hoa tương ứng: W\n"
     ]
    }
   ],
   "source": [
    "c = input(\"Nhập kí tự: \")\n",
    "if c.islower():\n",
    "    print(\"Kí tự hoa tương ứng:\", c.upper())\n",
    "else:\n",
    "    print(\"Kí tự thường tương ứng:\", c.lower())"
   ]
  },
  {
   "cell_type": "code",
   "execution_count": 13,
   "id": "73507bc8-4180-4c73-bbea-8fdf187a8ffd",
   "metadata": {},
   "outputs": [
    {
     "name": "stdin",
     "output_type": "stream",
     "text": [
      "Nhập một ký tự:  4\n"
     ]
    },
    {
     "name": "stdout",
     "output_type": "stream",
     "text": [
      "4 không phải là ký tự alphabet\n"
     ]
    }
   ],
   "source": [
    "ky_tu = input(\"Nhập một ký tự: \")\n",
    "\n",
    "if ky_tu.isalpha():\n",
    "    print(\"{} là ký tự alphabet\".format(ky_tu))\n",
    "else:\n",
    "    print(\"{} không phải là ký tự alphabet\".format(ky_tu))"
   ]
  },
  {
   "cell_type": "code",
   "execution_count": 15,
   "id": "5adfd0c5-a8b9-4c87-9bde-d7ec6c99a3c4",
   "metadata": {},
   "outputs": [
    {
     "name": "stdin",
     "output_type": "stream",
     "text": [
      "Nhập chữ cái in hoa:  h\n"
     ]
    },
    {
     "name": "stdout",
     "output_type": "stream",
     "text": [
      "Chữ cái thường liền trước là: g\n"
     ]
    }
   ],
   "source": [
    "chu_cai = input(\"Nhập chữ cái in hoa: \")\n",
    "\n",
    "if chu_cai == 'A':\n",
    "    print(\"Không có chữ cái liền trước 'a'\")\n",
    "else:\n",
    "    chu_thuong = chu_cai.lower()\n",
    "    chu_truoc = chr(ord(chu_thuong) - 1)\n",
    "    print(\"Chữ cái thường liền trước là:\", chu_truoc)\n"
   ]
  },
  {
   "cell_type": "code",
   "execution_count": 16,
   "id": "08b95923-5abe-4506-9926-4f99ba3d558f",
   "metadata": {},
   "outputs": [
    {
     "name": "stdin",
     "output_type": "stream",
     "text": [
      "Nhập 3 cạnh tam giác:  2 3 4\n"
     ]
    },
    {
     "name": "stdout",
     "output_type": "stream",
     "text": [
      "Diện tích tam giác = 2.9\n"
     ]
    }
   ],
   "source": [
    "import math\n",
    "\n",
    "canh_a, canh_b, canh_c = map(float, input(\"Nhập 3 cạnh tam giác: \").split())\n",
    "\n",
    "if canh_a + canh_b > canh_c and canh_a + canh_c > canh_b and canh_b + canh_c > canh_a:\n",
    "    nua_chu_vi = (canh_a + canh_b + canh_c) / 2\n",
    "    dien_tich = math.sqrt(nua_chu_vi * (nua_chu_vi - canh_a) * (nua_chu_vi - canh_b) * (nua_chu_vi - canh_c))\n",
    "    print(\"Diện tích tam giác = {:.1f}\".format(dien_tich))\n",
    "else:\n",
    "    print(\"Không phải 3 cạnh của tam giác\")\n"
   ]
  },
  {
   "cell_type": "code",
   "execution_count": 19,
   "id": "f244a69d-017b-4c52-9646-a6c9a0461c1c",
   "metadata": {},
   "outputs": [
    {
     "name": "stdin",
     "output_type": "stream",
     "text": [
      "Nhập một chuỗi (>=20 ký tự):  xinchaothegioilaptrinh\n"
     ]
    },
    {
     "name": "stdout",
     "output_type": "stream",
     "text": [
      "Ký tự thứ 5: h\n",
      "Ký tự thứ 9: h\n"
     ]
    }
   ],
   "source": [
    "chuoi = input(\"Nhập một chuỗi (>=20 ký tự): \")\n",
    "\n",
    "print(\"Ký tự thứ 5:\", chuoi[4])\n",
    "print(\"Ký tự thứ 9:\", chuoi[8])\n"
   ]
  },
  {
   "cell_type": "code",
   "execution_count": 1,
   "id": "58e2bb1a-292e-4d06-8e4a-44562648ac47",
   "metadata": {},
   "outputs": [
    {
     "name": "stdin",
     "output_type": "stream",
     "text": [
      "Nhập tên chủ hộ:  Truong Tuan Viet\n",
      "Chỉ số tháng trước:  2\n",
      "Chỉ số tháng này:  3\n"
     ]
    },
    {
     "name": "stdout",
     "output_type": "stream",
     "text": [
      "Họ và tên: Truong Tuan Viet\n",
      "Tiền phải trả là: 2142\n"
     ]
    }
   ],
   "source": [
    "ten_chu_ho = input(\"Nhập tên chủ hộ: \")\n",
    "chi_so_cu = int(input(\"Chỉ số tháng trước: \"))\n",
    "chi_so_moi = int(input(\"Chỉ số tháng này: \"))\n",
    "\n",
    "so_dien = chi_so_moi - chi_so_cu\n",
    "\n",
    "# Bậc thang giá điện\n",
    "bac_dien = [(50, 1984), (50, 2050), (100, 2380), (100, 2998), (100, 3350), (10**9, 3460)]\n",
    "\n",
    "tien = 0\n",
    "for gioi_han, gia in bac_dien:\n",
    "    so_luong = min(so_dien, gioi_han)\n",
    "    tien += so_luong * gia\n",
    "    so_dien -= so_luong\n",
    "    if so_dien <= 0:\n",
    "        break\n",
    "\n",
    "tien = int(tien * 1.08)  # cộng VAT 8%\n",
    "print(\"Họ và tên:\", ten_chu_ho)\n",
    "print(\"Tiền phải trả là:\", tien)"
   ]
  },
  {
   "cell_type": "code",
   "execution_count": null,
   "id": "c277105a-8eaa-4346-9b7e-9e5194fe4ea4",
   "metadata": {},
   "outputs": [],
   "source": []
  },
  {
   "cell_type": "code",
   "execution_count": 2,
   "id": "35315bea-a8c5-43f3-b031-b6ab0cce544a",
   "metadata": {},
   "outputs": [
    {
     "name": "stdin",
     "output_type": "stream",
     "text": [
      "Nhập một số nguyên:  2\n"
     ]
    },
    {
     "name": "stdout",
     "output_type": "stream",
     "text": [
      "Số 2 là số chẵn\n"
     ]
    }
   ],
   "source": [
    "so_nguyen = int(input(\"Nhập một số nguyên: \"))\n",
    "\n",
    "if so_nguyen % 2 == 0:\n",
    "    print(\"Số\", so_nguyen, \"là số chẵn\")\n",
    "else:\n",
    "    print(\"Số\", so_nguyen, \"là số lẻ\")\n"
   ]
  },
  {
   "cell_type": "code",
   "execution_count": null,
   "id": "d3733cb6-596f-4017-95fc-4b6706f0d5a7",
   "metadata": {},
   "outputs": [],
   "source": []
  },
  {
   "cell_type": "code",
   "execution_count": 3,
   "id": "f9b2817f-4bee-4642-8921-07d31a3607dc",
   "metadata": {},
   "outputs": [
    {
     "name": "stdin",
     "output_type": "stream",
     "text": [
      "Nhập một số nguyên:  2\n"
     ]
    },
    {
     "name": "stdout",
     "output_type": "stream",
     "text": [
      "False\n"
     ]
    }
   ],
   "source": [
    "so_nguyen = int(input(\"Nhập một số nguyên: \"))\n",
    "\n",
    "if str(so_nguyen).endswith(\"5\"):\n",
    "    print(\"True\")\n",
    "else:\n",
    "    print(\"False\")\n"
   ]
  },
  {
   "cell_type": "code",
   "execution_count": null,
   "id": "75ba5df0-8363-415d-b1a7-056a31d4364e",
   "metadata": {},
   "outputs": [],
   "source": []
  },
  {
   "cell_type": "code",
   "execution_count": 4,
   "id": "c715ac08-c328-4689-9bdf-dbb252e9c271",
   "metadata": {},
   "outputs": [
    {
     "name": "stdin",
     "output_type": "stream",
     "text": [
      "Nhập một số nguyên:  2\n"
     ]
    },
    {
     "name": "stdout",
     "output_type": "stream",
     "text": [
      "False\n"
     ]
    }
   ],
   "source": [
    "so_nguyen = int(input(\"Nhập một số nguyên: \"))\n",
    "\n",
    "if so_nguyen % 3 == 0 and so_nguyen % 5 == 0:\n",
    "    print(\"True\")\n",
    "else:\n",
    "    print(\"False\")\n"
   ]
  },
  {
   "cell_type": "code",
   "execution_count": null,
   "id": "847c0d54-6239-44f3-8e14-2d2b734e71d9",
   "metadata": {},
   "outputs": [],
   "source": []
  },
  {
   "cell_type": "code",
   "execution_count": 5,
   "id": "0db405fe-ce6f-4889-b21d-8b78a436f4ee",
   "metadata": {},
   "outputs": [
    {
     "name": "stdin",
     "output_type": "stream",
     "text": [
      "Nhập năm sinh:  2007\n"
     ]
    },
    {
     "name": "stdout",
     "output_type": "stream",
     "text": [
      "Đủ 18 tuổi để đi bầu cử\n"
     ]
    }
   ],
   "source": [
    "nam_sinh = int(input(\"Nhập năm sinh: \"))\n",
    "tuoi = 2025 - nam_sinh\n",
    "\n",
    "if tuoi >= 18:\n",
    "    print(\"Đủ 18 tuổi để đi bầu cử\")\n",
    "else:\n",
    "    print(\"Chưa đủ 18 tuổi để đi bầu cử\")\n"
   ]
  },
  {
   "cell_type": "code",
   "execution_count": null,
   "id": "4ba2a4b7-250f-4a6d-b3e5-b71431ea0ac9",
   "metadata": {},
   "outputs": [],
   "source": []
  },
  {
   "cell_type": "code",
   "execution_count": 6,
   "id": "3c7a1d87-2b69-4e4a-965b-ac4c84f9a4cb",
   "metadata": {},
   "outputs": [
    {
     "name": "stdin",
     "output_type": "stream",
     "text": [
      "Nhập 2 số nguyên:  1 2\n"
     ]
    },
    {
     "name": "stdout",
     "output_type": "stream",
     "text": [
      "2 lớn hơn 1\n"
     ]
    }
   ],
   "source": [
    "so1, so2 = map(int, input(\"Nhập 2 số nguyên: \").split())\n",
    "\n",
    "if so1 > so2:\n",
    "    print(so1, \"lớn hơn\", so2)\n",
    "elif so2 > so1:\n",
    "    print(so2, \"lớn hơn\", so1)\n",
    "else:\n",
    "    print(\"Hai số bằng nhau\")\n"
   ]
  },
  {
   "cell_type": "code",
   "execution_count": null,
   "id": "2b61e1eb-739d-4491-813d-4db672f9ced8",
   "metadata": {},
   "outputs": [],
   "source": []
  },
  {
   "cell_type": "code",
   "execution_count": 7,
   "id": "8982a3a0-6606-468f-9793-beaa89efe701",
   "metadata": {},
   "outputs": [
    {
     "name": "stdin",
     "output_type": "stream",
     "text": [
      "Nhập một ký tự:  h\n"
     ]
    },
    {
     "name": "stdout",
     "output_type": "stream",
     "text": [
      "Ký tự vừa nhập là chữ cái\n"
     ]
    }
   ],
   "source": [
    "ky_tu = input(\"Nhập một ký tự: \")\n",
    "\n",
    "if ky_tu.isalpha():\n",
    "    print(\"Ký tự vừa nhập là chữ cái\")\n",
    "elif ky_tu.isdigit():\n",
    "    print(\"Ký tự vừa nhập là chữ số\")\n",
    "else:\n",
    "    print(\"Ký tự khác (không phải chữ hoặc số)\")\n"
   ]
  },
  {
   "cell_type": "code",
   "execution_count": null,
   "id": "ec5279bb-ac22-451c-aef8-562c628dafcb",
   "metadata": {},
   "outputs": [],
   "source": []
  },
  {
   "cell_type": "code",
   "execution_count": 8,
   "id": "d460eb5b-4a30-4ba2-8e4e-a81b833f50de",
   "metadata": {},
   "outputs": [
    {
     "name": "stdin",
     "output_type": "stream",
     "text": [
      "Nhập điểm (0-10):  6\n"
     ]
    },
    {
     "name": "stdout",
     "output_type": "stream",
     "text": [
      "Học lực: Trung bình\n"
     ]
    }
   ],
   "source": [
    "diem = float(input(\"Nhập điểm (0-10): \"))\n",
    "\n",
    "if diem >= 8:\n",
    "    print(\"Học lực: Giỏi\")\n",
    "elif diem >= 6.5:\n",
    "    print(\"Học lực: Khá\")\n",
    "elif diem >= 5:\n",
    "    print(\"Học lực: Trung bình\")\n",
    "else:\n",
    "    print(\"Học lực: Yếu\")\n"
   ]
  },
  {
   "cell_type": "code",
   "execution_count": null,
   "id": "58fcc386-e430-4d5d-91f0-3fa44e3a6b1a",
   "metadata": {},
   "outputs": [],
   "source": []
  },
  {
   "cell_type": "code",
   "execution_count": 9,
   "id": "d02dd425-79aa-412f-867b-02186d53e559",
   "metadata": {},
   "outputs": [
    {
     "name": "stdin",
     "output_type": "stream",
     "text": [
      "Nhập năm:  2000\n"
     ]
    },
    {
     "name": "stdout",
     "output_type": "stream",
     "text": [
      "Năm nhuận\n"
     ]
    }
   ],
   "source": [
    "nam = int(input(\"Nhập năm: \"))\n",
    "\n",
    "if nam % 400 == 0 or (nam % 4 == 0 and nam % 100 != 0):\n",
    "    print(\"Năm nhuận\")\n",
    "else:\n",
    "    print(\"Không phải năm nhuận\")\n"
   ]
  },
  {
   "cell_type": "code",
   "execution_count": null,
   "id": "17f0d306-d6c7-4bc4-8743-90d0af387d54",
   "metadata": {},
   "outputs": [],
   "source": []
  },
  {
   "cell_type": "code",
   "execution_count": 10,
   "id": "cd7fcb20-b031-4c43-8f24-6b02ed943d1f",
   "metadata": {},
   "outputs": [
    {
     "name": "stdin",
     "output_type": "stream",
     "text": [
      "Nhập số nguyên (0-9):  5\n"
     ]
    },
    {
     "name": "stdout",
     "output_type": "stream",
     "text": [
      "Số 5 đọc là: Năm\n"
     ]
    }
   ],
   "source": [
    "so = int(input(\"Nhập số nguyên (0-9): \"))\n",
    "\n",
    "chu_so = [\"Không\", \"Một\", \"Hai\", \"Ba\", \"Bốn\", \"Năm\", \"Sáu\", \"Bảy\", \"Tám\", \"Chín\"]\n",
    "\n",
    "if 0 <= so <= 9:\n",
    "    print(\"Số\", so, \"đọc là:\", chu_so[so])\n",
    "else:\n",
    "    print(\"Ngoài phạm vi (0-9)\")\n"
   ]
  },
  {
   "cell_type": "code",
   "execution_count": null,
   "id": "bd8dbb2e-408f-4ac0-ac41-16dfbece84ed",
   "metadata": {},
   "outputs": [],
   "source": []
  },
  {
   "cell_type": "code",
   "execution_count": 11,
   "id": "03a056ef-10d4-4ae1-b75f-434444ecab99",
   "metadata": {},
   "outputs": [
    {
     "name": "stdin",
     "output_type": "stream",
     "text": [
      "Nhập điểm thi:  6\n"
     ]
    },
    {
     "name": "stdout",
     "output_type": "stream",
     "text": [
      "Qua môn\n"
     ]
    }
   ],
   "source": [
    "diem_thi = float(input(\"Nhập điểm thi: \"))\n",
    "\n",
    "if diem_thi >= 4:\n",
    "    print(\"Qua môn\")\n",
    "else:\n",
    "    print(\"Học lại\")\n"
   ]
  },
  {
   "cell_type": "code",
   "execution_count": null,
   "id": "8ded6b25-82b0-4064-8f78-3bc9f27daf42",
   "metadata": {},
   "outputs": [],
   "source": []
  },
  {
   "cell_type": "code",
   "execution_count": 12,
   "id": "a1f837be-32cc-4c9b-ad37-36312d3e67cb",
   "metadata": {},
   "outputs": [
    {
     "name": "stdin",
     "output_type": "stream",
     "text": [
      "Nhập năm sinh:  2000\n"
     ]
    },
    {
     "name": "stdout",
     "output_type": "stream",
     "text": [
      "Tuổi hiện tại là: 25\n",
      "Đủ 18 tuổi\n"
     ]
    }
   ],
   "source": [
    "nam_sinh = int(input(\"Nhập năm sinh: \"))\n",
    "tuoi = 2025 - nam_sinh\n",
    "\n",
    "print(\"Tuổi hiện tại là:\", tuoi)\n",
    "\n",
    "if tuoi >= 18:\n",
    "    print(\"Đủ 18 tuổi\")\n",
    "else:\n",
    "    print(\"Chưa đủ 18 tuổi\")\n"
   ]
  },
  {
   "cell_type": "code",
   "execution_count": null,
   "id": "3280dc04-e462-43d1-b475-e7eb72b89eb5",
   "metadata": {},
   "outputs": [],
   "source": []
  }
 ],
 "metadata": {
  "kernelspec": {
   "display_name": "anaconda-2024.02-py310",
   "language": "python",
   "name": "conda-env-anaconda-2024.02-py310-py"
  },
  "language_info": {
   "codemirror_mode": {
    "name": "ipython",
    "version": 3
   },
   "file_extension": ".py",
   "mimetype": "text/x-python",
   "name": "python",
   "nbconvert_exporter": "python",
   "pygments_lexer": "ipython3",
   "version": "3.10.14"
  }
 },
 "nbformat": 4,
 "nbformat_minor": 5
}
